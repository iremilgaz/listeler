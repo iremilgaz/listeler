{
 "cells": [
  {
   "cell_type": "code",
   "execution_count": 1,
   "id": "60836cba",
   "metadata": {},
   "outputs": [
    {
     "name": "stdout",
     "output_type": "stream",
     "text": [
      "liste: ['elma', 'muz', 'çilek', 'portakal', 'kiraz']\n"
     ]
    }
   ],
   "source": [
    "meyveler = [\"elma\", \"muz\", \"çilek\", \"portakal\"]\n",
    "meyveler.append(\"kiraz\")\n",
    "print(\"liste:\", meyveler)\n",
    "#kiraz meyvesini meyveler listesine ekledim"
   ]
  },
  {
   "cell_type": "code",
   "execution_count": 2,
   "id": "f9ecb38f",
   "metadata": {},
   "outputs": [
    {
     "name": "stdout",
     "output_type": "stream",
     "text": [
      "bir meyve girin: ananas\n",
      "liste ['elma', 'muz', 'çilek', 'portakal', 'kiraz', 'ananas']\n"
     ]
    }
   ],
   "source": [
    "meyve=input(\"bir meyve girin: \")\n",
    "meyveler.append(meyve)\n",
    "print(\"liste\", meyveler)\n",
    "#kullanıcının girdiği meyveyi meyveler listesine ekledim"
   ]
  },
  {
   "cell_type": "code",
   "execution_count": 4,
   "id": "1cff9d99",
   "metadata": {},
   "outputs": [
    {
     "name": "stdout",
     "output_type": "stream",
     "text": [
      "[10, 20, 30, 40, 50]\n"
     ]
    }
   ],
   "source": [
    "sayilar = [10, 20, 30, 50]\n",
    "sayilar.insert(3,40)\n",
    "print(sayilar)\n",
    "#3.sıraya insert kullanarak  40 sayısını ekledim. "
   ]
  },
  {
   "cell_type": "code",
   "execution_count": 5,
   "id": "c6f11fe5",
   "metadata": {},
   "outputs": [
    {
     "name": "stdout",
     "output_type": "stream",
     "text": [
      "bir sayı girin:43\n",
      "sayıyı nereye eklemek istiyorsunuz?:4\n",
      "[10, 20, 30, 40, 43, 50]\n"
     ]
    }
   ],
   "source": [
    "sayi1=int(input(\"bir sayı girin:\"))\n",
    "sayiyeri=int(input(\"sayıyı nereye eklemek istiyorsunuz?\"))\n",
    "sayilar.insert(sayiyeri,sayi1)\n",
    "print(sayilar)\n",
    "#kullanıcının girmek istediği sayıyı ve o sayının nerede olması gerektiğine göre sayıyı ekledim."
   ]
  },
  {
   "cell_type": "code",
   "execution_count": 6,
   "id": "9bcc51aa",
   "metadata": {},
   "outputs": [
    {
     "name": "stdout",
     "output_type": "stream",
     "text": [
      "['Ali', 'Mehmet', 'Zeynep', 'Ayşe']\n"
     ]
    }
   ],
   "source": [
    "isimler = [\"Ali\", \"Ayşe\", \"Mehmet\", \"Zeynep\", \"Ayşe\"]\n",
    "isimler.remove(\"Ayşe\")\n",
    "print(isimler)\n",
    "#ayşe ismini remove kullanarak sildim."
   ]
  },
  {
   "cell_type": "code",
   "execution_count": 13,
   "id": "1b9e8ca1",
   "metadata": {},
   "outputs": [
    {
     "name": "stdout",
     "output_type": "stream",
     "text": [
      "silmek istediğiniz ismi girin:Ali\n",
      "['Zeynep', 'Ayşe']\n"
     ]
    }
   ],
   "source": [
    "isim=input(\"silmek istediğiniz ismi girin:\")\n",
    "isimler.remove(isim)\n",
    "print(isimler)\n",
    "#kullanıcının verdiği ismi listeden sildim "
   ]
  },
  {
   "cell_type": "code",
   "execution_count": 14,
   "id": "5b961444",
   "metadata": {},
   "outputs": [
    {
     "name": "stdout",
     "output_type": "stream",
     "text": [
      "[5, 10, 15, 20]\n"
     ]
    }
   ],
   "source": [
    "rakamlar = [5, 10, 15, 20, 25]\n",
    "son_eleman = rakamlar.pop()\n",
    "print(rakamlar)\n",
    "# pop kullanarak listenin son elemanını sildim"
   ]
  },
  {
   "cell_type": "code",
   "execution_count": 15,
   "id": "32212778",
   "metadata": {},
   "outputs": [
    {
     "name": "stdout",
     "output_type": "stream",
     "text": [
      "Silmek istediğiniz indeks: 2\n",
      "15 [5, 10, 20]\n"
     ]
    }
   ],
   "source": [
    "kullanici_indeks = int(input(\"Silmek istediğiniz indeks: \"))\n",
    "if 0 <= kullanici_indeks < len(rakamlar):\n",
    "    silinen = rakamlar.pop(kullanici_indeks)\n",
    "    print(silinen, rakamlar)\n",
    "    #kullanıcıdan silmek istediği sayının sırasını istedim. sonra da o sıradaki sayıyı sildim"
   ]
  },
  {
   "cell_type": "code",
   "execution_count": 16,
   "id": "b5f9593d",
   "metadata": {},
   "outputs": [
    {
     "name": "stdout",
     "output_type": "stream",
     "text": [
      "['e', 'd', 'c', 'b', 'a']\n"
     ]
    }
   ],
   "source": [
    "harfler = [\"a\", \"b\", \"c\", \"d\", \"e\"]\n",
    "harfler.reverse()\n",
    "print(harfler)\n",
    "#reverse kullanarak listeyi ters çevirdim"
   ]
  },
  {
   "cell_type": "code",
   "execution_count": 18,
   "id": "7e7e0b7b",
   "metadata": {},
   "outputs": [
    {
     "name": "stdout",
     "output_type": "stream",
     "text": [
      "bir liste girin:a,c,u,n,m,e,d,y,a\n",
      "['a', 'y', 'd', 'e', 'm', 'n', 'u', 'c', 'a']\n"
     ]
    }
   ],
   "source": [
    "kullanici_listesi=input(\"bir liste girin:\").split(\",\")\n",
    "kullanici_listesi.reverse()\n",
    "print(kullanici_listesi)"
   ]
  },
  {
   "cell_type": "code",
   "execution_count": 19,
   "id": "db70c071",
   "metadata": {},
   "outputs": [
    {
     "name": "stdout",
     "output_type": "stream",
     "text": [
      "[]\n"
     ]
    }
   ],
   "source": [
    "renkler = [\"kırmızı\", \"mavi\", \"yeşil\", \"sarı\"]\n",
    "renkler.clear()\n",
    "print(renkler)\n",
    "#clear kullanarak listeyi temizledim"
   ]
  },
  {
   "cell_type": "code",
   "execution_count": null,
   "id": "2c8290e2",
   "metadata": {},
   "outputs": [],
   "source": []
  }
 ],
 "metadata": {
  "kernelspec": {
   "display_name": "Python 3 (ipykernel)",
   "language": "python",
   "name": "python3"
  },
  "language_info": {
   "codemirror_mode": {
    "name": "ipython",
    "version": 3
   },
   "file_extension": ".py",
   "mimetype": "text/x-python",
   "name": "python",
   "nbconvert_exporter": "python",
   "pygments_lexer": "ipython3",
   "version": "3.9.12"
  }
 },
 "nbformat": 4,
 "nbformat_minor": 5
}
